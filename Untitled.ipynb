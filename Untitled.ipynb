{
 "cells": [
  {
   "cell_type": "markdown",
   "id": "2f92e0a6",
   "metadata": {},
   "source": [
    "# This is my first class"
   ]
  },
  {
   "cell_type": "code",
   "execution_count": 3,
   "id": "b26ad50c",
   "metadata": {},
   "outputs": [
    {
     "ename": "SyntaxError",
     "evalue": "invalid syntax (1013982199.py, line 1)",
     "output_type": "error",
     "traceback": [
      "\u001b[1;36m  Input \u001b[1;32mIn [3]\u001b[1;36m\u001b[0m\n\u001b[1;33m    1 \"hello\"\u001b[0m\n\u001b[1;37m      ^\u001b[0m\n\u001b[1;31mSyntaxError\u001b[0m\u001b[1;31m:\u001b[0m invalid syntax\n"
     ]
    }
   ],
   "source": [
    "1 \"hello\""
   ]
  },
  {
   "cell_type": "code",
   "execution_count": 4,
   "id": "513924f7",
   "metadata": {},
   "outputs": [
    {
     "name": "stdout",
     "output_type": "stream",
     "text": [
      "hello world\n"
     ]
    }
   ],
   "source": [
    "print(\"hello world\")"
   ]
  },
  {
   "cell_type": "code",
   "execution_count": 5,
   "id": "97dd3888",
   "metadata": {},
   "outputs": [
    {
     "name": "stdout",
     "output_type": "stream",
     "text": [
      "hii all this is satya\n"
     ]
    }
   ],
   "source": [
    "print(\"hii all this is satya\")"
   ]
  },
  {
   "cell_type": "markdown",
   "id": "e9fc45df",
   "metadata": {},
   "source": [
    "# python numbers"
   ]
  },
  {
   "cell_type": "code",
   "execution_count": 6,
   "id": "062b538c",
   "metadata": {},
   "outputs": [
    {
     "data": {
      "text/plain": [
       "2"
      ]
     },
     "execution_count": 6,
     "metadata": {},
     "output_type": "execute_result"
    }
   ],
   "source": [
    "2"
   ]
  },
  {
   "cell_type": "code",
   "execution_count": 7,
   "id": "b124a06c",
   "metadata": {},
   "outputs": [
    {
     "data": {
      "text/plain": [
       "int"
      ]
     },
     "execution_count": 7,
     "metadata": {},
     "output_type": "execute_result"
    }
   ],
   "source": [
    "type(2)"
   ]
  },
  {
   "cell_type": "code",
   "execution_count": 8,
   "id": "f0dee078",
   "metadata": {},
   "outputs": [
    {
     "data": {
      "text/plain": [
       "5.9"
      ]
     },
     "execution_count": 8,
     "metadata": {},
     "output_type": "execute_result"
    }
   ],
   "source": [
    "5.9"
   ]
  },
  {
   "cell_type": "code",
   "execution_count": 9,
   "id": "247508b6",
   "metadata": {},
   "outputs": [
    {
     "data": {
      "text/plain": [
       "float"
      ]
     },
     "execution_count": 9,
     "metadata": {},
     "output_type": "execute_result"
    }
   ],
   "source": [
    "type(5.9)"
   ]
  },
  {
   "cell_type": "code",
   "execution_count": 11,
   "id": "8782145a",
   "metadata": {},
   "outputs": [
    {
     "data": {
      "text/plain": [
       "14"
      ]
     },
     "execution_count": 11,
     "metadata": {},
     "output_type": "execute_result"
    }
   ],
   "source": [
    "#addition operation\n",
    "7+7"
   ]
  },
  {
   "cell_type": "code",
   "execution_count": 12,
   "id": "d842594d",
   "metadata": {},
   "outputs": [
    {
     "data": {
      "text/plain": [
       "180"
      ]
     },
     "execution_count": 12,
     "metadata": {},
     "output_type": "execute_result"
    }
   ],
   "source": [
    "60+120"
   ]
  },
  {
   "cell_type": "code",
   "execution_count": 13,
   "id": "cbd7949c",
   "metadata": {},
   "outputs": [
    {
     "data": {
      "text/plain": [
       "6"
      ]
     },
     "execution_count": 13,
     "metadata": {},
     "output_type": "execute_result"
    }
   ],
   "source": [
    "#subtraction operation\n",
    "8-2"
   ]
  },
  {
   "cell_type": "code",
   "execution_count": 14,
   "id": "c7377862",
   "metadata": {},
   "outputs": [
    {
     "data": {
      "text/plain": [
       "-10"
      ]
     },
     "execution_count": 14,
     "metadata": {},
     "output_type": "execute_result"
    }
   ],
   "source": [
    "60-70"
   ]
  },
  {
   "cell_type": "code",
   "execution_count": 15,
   "id": "d49b9914",
   "metadata": {},
   "outputs": [
    {
     "data": {
      "text/plain": [
       "2"
      ]
     },
     "execution_count": 15,
     "metadata": {},
     "output_type": "execute_result"
    }
   ],
   "source": [
    "8-9-3+6"
   ]
  },
  {
   "cell_type": "code",
   "execution_count": 16,
   "id": "1cbaad4f",
   "metadata": {},
   "outputs": [
    {
     "data": {
      "text/plain": [
       "13"
      ]
     },
     "execution_count": 16,
     "metadata": {},
     "output_type": "execute_result"
    }
   ],
   "source": [
    "5+6-7+9"
   ]
  },
  {
   "cell_type": "code",
   "execution_count": 17,
   "id": "1de98e34",
   "metadata": {},
   "outputs": [
    {
     "data": {
      "text/plain": [
       "1"
      ]
     },
     "execution_count": 17,
     "metadata": {},
     "output_type": "execute_result"
    }
   ],
   "source": [
    "1-0"
   ]
  },
  {
   "cell_type": "code",
   "execution_count": 18,
   "id": "5c10ba8d",
   "metadata": {},
   "outputs": [
    {
     "data": {
      "text/plain": [
       "-5.140000000000001"
      ]
     },
     "execution_count": 18,
     "metadata": {},
     "output_type": "execute_result"
    }
   ],
   "source": [
    "2.86-8"
   ]
  },
  {
   "cell_type": "code",
   "execution_count": 19,
   "id": "3d73cb8d",
   "metadata": {},
   "outputs": [
    {
     "data": {
      "text/plain": [
       "36"
      ]
     },
     "execution_count": 19,
     "metadata": {},
     "output_type": "execute_result"
    }
   ],
   "source": [
    "#multiplication operation\n",
    "6*6"
   ]
  },
  {
   "cell_type": "code",
   "execution_count": 20,
   "id": "5f6d682c",
   "metadata": {},
   "outputs": [
    {
     "data": {
      "text/plain": [
       "13.440000000000001"
      ]
     },
     "execution_count": 20,
     "metadata": {},
     "output_type": "execute_result"
    }
   ],
   "source": [
    "4.2*3.2"
   ]
  },
  {
   "cell_type": "code",
   "execution_count": 21,
   "id": "be23868c",
   "metadata": {},
   "outputs": [
    {
     "data": {
      "text/plain": [
       "50.92"
      ]
     },
     "execution_count": 21,
     "metadata": {},
     "output_type": "execute_result"
    }
   ],
   "source": [
    "7.6*6.7"
   ]
  },
  {
   "cell_type": "code",
   "execution_count": 22,
   "id": "7dde26cf",
   "metadata": {},
   "outputs": [
    {
     "data": {
      "text/plain": [
       "256"
      ]
     },
     "execution_count": 22,
     "metadata": {},
     "output_type": "execute_result"
    }
   ],
   "source": [
    "#power operation\n",
    "2**8"
   ]
  },
  {
   "cell_type": "code",
   "execution_count": 23,
   "id": "7393f367",
   "metadata": {},
   "outputs": [
    {
     "data": {
      "text/plain": [
       "0.5"
      ]
     },
     "execution_count": 23,
     "metadata": {},
     "output_type": "execute_result"
    }
   ],
   "source": [
    "# / = divide operation\n",
    "1/2"
   ]
  },
  {
   "cell_type": "code",
   "execution_count": 24,
   "id": "0ac1bb28",
   "metadata": {},
   "outputs": [
    {
     "data": {
      "text/plain": [
       "1.3333333333333333"
      ]
     },
     "execution_count": 24,
     "metadata": {},
     "output_type": "execute_result"
    }
   ],
   "source": [
    "8/6"
   ]
  },
  {
   "cell_type": "code",
   "execution_count": 25,
   "id": "23d69771",
   "metadata": {},
   "outputs": [
    {
     "data": {
      "text/plain": [
       "0"
      ]
     },
     "execution_count": 25,
     "metadata": {},
     "output_type": "execute_result"
    }
   ],
   "source": [
    "# % = Divides\n",
    "6%2"
   ]
  },
  {
   "cell_type": "code",
   "execution_count": 26,
   "id": "d26390bf",
   "metadata": {},
   "outputs": [
    {
     "data": {
      "text/plain": [
       "0"
      ]
     },
     "execution_count": 26,
     "metadata": {},
     "output_type": "execute_result"
    }
   ],
   "source": [
    "789%3"
   ]
  },
  {
   "cell_type": "code",
   "execution_count": 27,
   "id": "73205208",
   "metadata": {},
   "outputs": [
    {
     "data": {
      "text/plain": [
       "7.125"
      ]
     },
     "execution_count": 27,
     "metadata": {},
     "output_type": "execute_result"
    }
   ],
   "source": [
    "7+8-9/8%8*7"
   ]
  },
  {
   "cell_type": "code",
   "execution_count": 28,
   "id": "a869eca1",
   "metadata": {},
   "outputs": [
    {
     "name": "stdout",
     "output_type": "stream",
     "text": [
      "all mathematical operaions are completed\n"
     ]
    }
   ],
   "source": [
    "print(\"all mathematical operaions are completed\")"
   ]
  },
  {
   "cell_type": "code",
   "execution_count": null,
   "id": "ba64e347",
   "metadata": {},
   "outputs": [],
   "source": []
  }
 ],
 "metadata": {
  "kernelspec": {
   "display_name": "Python 3 (ipykernel)",
   "language": "python",
   "name": "python3"
  },
  "language_info": {
   "codemirror_mode": {
    "name": "ipython",
    "version": 3
   },
   "file_extension": ".py",
   "mimetype": "text/x-python",
   "name": "python",
   "nbconvert_exporter": "python",
   "pygments_lexer": "ipython3",
   "version": "3.9.12"
  }
 },
 "nbformat": 4,
 "nbformat_minor": 5
}
